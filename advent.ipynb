{
 "cells": [
  {
   "cell_type": "code",
   "execution_count": 13,
   "metadata": {},
   "outputs": [],
   "source": [
    "# Imports\n",
    "from statistics import mean"
   ]
  },
  {
   "cell_type": "markdown",
   "metadata": {},
   "source": [
    "# Advent of Code Notebook"
   ]
  },
  {
   "cell_type": "markdown",
   "metadata": {},
   "source": [
    "## Day 1: 2021-12-01"
   ]
  },
  {
   "cell_type": "markdown",
   "metadata": {},
   "source": [
    "### Part 1"
   ]
  },
  {
   "cell_type": "code",
   "execution_count": 2,
   "metadata": {},
   "outputs": [],
   "source": [
    "# Data Load\n",
    "with open(\"input.txt\") as file:\n",
    "   depths = file.read().splitlines()\n",
    "depths = list(map(int, depths))"
   ]
  },
  {
   "cell_type": "code",
   "execution_count": 11,
   "metadata": {},
   "outputs": [
    {
     "name": "stdout",
     "output_type": "stream",
     "text": [
      "1624\n"
     ]
    }
   ],
   "source": [
    "# store values in tuples to calculate if difference is positive\n",
    "tups = list(zip(depths[:-1], depths[1:]))\n",
    "positive = 0 \n",
    "# for loop iterating through each tuple, increasing positive count by 1 if difference is positive. \n",
    "# Error handling exception isnt necessary, but is left over from an earlier attempt at the code. I left it in because it doesnt harm anything. \n",
    "for i in tups:\n",
    "    try:\n",
    "        if i[1] > i[0]:\n",
    "            positive += 1\n",
    "    except IndexError:\n",
    "        positive += 0 \n",
    "print(f'Number of positive changes: {positive}')"
   ]
  },
  {
   "cell_type": "markdown",
   "metadata": {},
   "source": [
    "### Part 2"
   ]
  },
  {
   "cell_type": "code",
   "execution_count": 14,
   "metadata": {},
   "outputs": [
    {
     "name": "stdout",
     "output_type": "stream",
     "text": [
      "1653\n"
     ]
    }
   ],
   "source": [
    "# Same solution as the previous part, but the tuple packing is a bit more complex. \n",
    "three = list(zip(depths[:-2], depths[1:-1], depths[2:]))\n",
    "threetups = list(zip(three[:-1], three[1:]))\n",
    "\n",
    "positive = 0\n",
    "for i in threetups:\n",
    "    try:\n",
    "        if mean(i[1]) > mean(i[0]):\n",
    "            positive += 1\n",
    "    except IndexError:\n",
    "        positive += 0\n",
    "print(f'Positive comparison window increases: {positive}')"
   ]
  },
  {
   "cell_type": "markdown",
   "metadata": {},
   "source": [
    "## Day 2: 2021-12-02"
   ]
  },
  {
   "cell_type": "code",
   "execution_count": 2,
   "metadata": {},
   "outputs": [],
   "source": [
    "# since we are dealing with strings, the data load will be slightly different. We will have to convert to int somewhere other than data load. \n",
    "with open(\"input.txt\") as file:\n",
    "   command = file.read().splitlines()"
   ]
  },
  {
   "cell_type": "markdown",
   "metadata": {},
   "source": [
    "### Part 1"
   ]
  },
  {
   "cell_type": "code",
   "execution_count": 30,
   "metadata": {},
   "outputs": [
    {
     "name": "stdout",
     "output_type": "stream",
     "text": [
      "1940\n",
      "861\n",
      "1670340\n"
     ]
    }
   ],
   "source": [
    "# Load left us with a list of command strings. Now we will split the tuple up into individual parts to do something with them. \n",
    "horizontal = 0\n",
    "depth = 0\n",
    "for i in command:\n",
    "    # split, 'forward 7' becomes ['forward','7']\n",
    "    i = str.split(i)\n",
    "    # Check first value, then add the second value according to the rules. Notice int casting is done on second value. It is a string, needs to be converted to int for math purposes. \n",
    "    if i[0] == 'forward':\n",
    "        horizontal += int(i[1]) \n",
    "    elif i[0] == 'up':\n",
    "        depth -= int(i[1])\n",
    "    else:\n",
    "        depth += int(i[1])\n",
    "# Print out calculation\n",
    "print(f'Horizontal distance : {horizontal}')\n",
    "print(f'Depth: {depth}')\n",
    "print(f'Horizontal distance * depth: {horizontal * depth}')"
   ]
  },
  {
   "cell_type": "markdown",
   "metadata": {},
   "source": [
    "### Part 2"
   ]
  },
  {
   "cell_type": "code",
   "execution_count": 6,
   "metadata": {},
   "outputs": [
    {
     "name": "stdout",
     "output_type": "stream",
     "text": [
      "Horizontal distance * depth = 1954293920\n"
     ]
    }
   ],
   "source": [
    "# Same approach, just a change in rules and the addition of a third variable. \n",
    "horizontal = 0\n",
    "depth = 0\n",
    "aim = 0\n",
    "show_output = False\n",
    "# same casting, just changes to what happens with each command. \n",
    "for i in command:\n",
    "    i = str.split(i)\n",
    "    if i[0] == 'forward':\n",
    "        horizontal += int(i[1])\n",
    "        depth += (aim * int(i[1])) \n",
    "    elif i[0] == 'up':\n",
    "        aim -= int(i[1])\n",
    "    else:\n",
    "        aim += int(i[1])\n",
    "    if show_output == True:\n",
    "        print('---------------------------------')\n",
    "        print(f'Command: {i}')\n",
    "        print(f'Horizontal: {horizontal}')\n",
    "        print(f'Depth: {depth}')\n",
    "        print(f'Aim: {aim}')\n",
    "        print(f'HorizontalDepth : {horizontal * depth}')\n",
    "        print('---------------------------------')\n",
    "# print out final calculation\n",
    "print(f'Horizontal distance * depth = {horizontal * depth}')"
   ]
  },
  {
   "cell_type": "code",
   "execution_count": null,
   "metadata": {},
   "outputs": [],
   "source": []
  }
 ],
 "metadata": {
  "interpreter": {
   "hash": "b0fa6594d8f4cbf19f97940f81e996739fb7646882a419484c72d19e05852a7e"
  },
  "kernelspec": {
   "display_name": "Python 3.9.7 64-bit",
   "language": "python",
   "name": "python3"
  },
  "language_info": {
   "codemirror_mode": {
    "name": "ipython",
    "version": 3
   },
   "file_extension": ".py",
   "mimetype": "text/x-python",
   "name": "python",
   "nbconvert_exporter": "python",
   "pygments_lexer": "ipython3",
   "version": "3.9.7"
  },
  "orig_nbformat": 4
 },
 "nbformat": 4,
 "nbformat_minor": 2
}
